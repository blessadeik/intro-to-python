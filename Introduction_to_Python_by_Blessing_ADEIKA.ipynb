{
  "nbformat": 4,
  "nbformat_minor": 0,
  "metadata": {
    "colab": {
      "provenance": []
    },
    "kernelspec": {
      "name": "python3",
      "display_name": "Python 3"
    },
    "language_info": {
      "name": "python"
    }
  },
  "cells": [
    {
      "cell_type": "markdown",
      "source": [
        "https://vimeo.com/835890451/a5e4f8111f"
      ],
      "metadata": {
        "id": "JF4-S4nsRntn"
      }
    },
    {
      "cell_type": "markdown",
      "source": [
        "\n",
        "**Introduction to Python**\n",
        "\n",
        "  - Explanation of Python and its popularity\n",
        "  - Overview of Python's applications (data analytics, web development, databases, etc.)\n",
        "  - Installing Python and setting up the development environment (mention Jupyter Notebooks)\n",
        "\n",
        "**Basic Concepts**\n",
        "  - Variables and data types (integers, floats, strings)\n",
        "  - Arithmetic operations\n",
        "  - Printing output to the console\n",
        "\n",
        "**Control Flow**\n",
        "  - Conditional statements (if-else)\n",
        "  - Loops (for and while loops)\n",
        "  - Iterating through lists and other data structures\n",
        "\n",
        "**Functions**\n",
        "  - Defining and calling functions\n",
        "  - Parameters and return values\n",
        "  - Built-in functions vs. user-defined functions\n",
        "\n",
        "**File Handling**\n",
        "  - Reading from and writing to files\n",
        "  - File modes (read, write, append)\n",
        "\n",
        "**Libraries and Modules**\n",
        "  - Introduction to Python libraries (e.g., NumPy, Pandas, Matplotlib)\n",
        "  - Importing and using modules\n",
        "\n",
        "**Conclusion and Next Steps**\n",
        "  - Recap of key concepts learned\n",
        "  - Resources for further learning and practice"
      ],
      "metadata": {
        "id": "FIi19t8tZ0nb"
      }
    },
    {
      "cell_type": "markdown",
      "source": [
        "____________________________________________________________________________\n"
      ],
      "metadata": {
        "id": "CAOGJ8G5mFzi"
      }
    },
    {
      "cell_type": "markdown",
      "source": [
        "**1. Introduction to Python**\n",
        "\n",
        "  - Explanation of Python and its popularity\n",
        "  - Overview of Python's applications (data analytics, web development, databases, etc.)\n",
        "  - Installing Python and setting up the development environment (mention Jupyter Notebooks)"
      ],
      "metadata": {
        "id": "rnCGMzCdmKou"
      }
    },
    {
      "cell_type": "markdown",
      "source": [
        "**Lecture/Presentation Note: Introduction to Python**\n",
        "\n",
        "**Introduction:**\n",
        "- Python has become one of the most popular programming languages in recent years [[1](https://www.coursera.org/articles/what-is-python-used-for-a-beginners-guide-to-using-python)]. It is a general-purpose language known for its simplicity and readability, making it an excellent choice for beginners and experienced programmers alike.\n",
        "- Python was created by Guido van Rossum and released in 1991 [[11](https://www.w3schools.com/python/python_intro.asp)]. Since then, it has gained popularity and is widely used in various domains.\n",
        "\n",
        "**Python's Popularity:**\n",
        "- Python's popularity can be attributed to several factors. First, its syntax is intuitive and easy to learn, making it accessible to beginners [[1](https://www.coursera.org/articles/what-is-python-used-for-a-beginners-guide-to-using-python)]. Second, Python has a vast and active community of developers who contribute to its growth and provide support through libraries and frameworks.\n",
        "- Python's versatility is another reason for its popularity. It can be used in a wide range of applications, including data analytics, web development, databases, scientific computing, machine learning, artificial intelligence, and more [[1](https://www.coursera.org/articles/what-is-python-used-for-a-beginners-guide-to-using-python)].\n",
        "\n",
        "**Python's Applications:**\n",
        "**- Data Analytics:** Python has become a go-to language for data analysis and manipulation. It offers powerful libraries like NumPy, Pandas, and Matplotlib that simplify data handling, exploration, and visualization [[3](https://www.sp.edu.sg/pace/courses/all-courses/course-details/data-analysis-using-python)].\n",
        "**- Web Development:** Python's simplicity and readability make it an excellent choice for web development. Frameworks like Django and Flask provide robust tools for building scalable and secure web applications [[1](https://www.coursera.org/articles/what-is-python-used-for-a-beginners-guide-to-using-python)].\n",
        "**- Databases:** Python can interact with various database systems, allowing developers to manage and manipulate data efficiently. Libraries like SQLAlchemy provide an object-relational mapping (ORM) toolkit for working with databases [[1](https://www.coursera.org/articles/what-is-python-used-for-a-beginners-guide-to-using-python)].\n",
        "**- Machine Learning and Artificial Intelligence:** Python has gained significant traction in the field of machine learning and AI due to libraries like TensorFlow, Keras, and scikit-learn. These libraries provide a rich set of tools for building and training models [[1](https://www.coursera.org/articles/what-is-python-used-for-a-beginners-guide-to-using-python)].\n",
        "\n",
        "**Installing Python and Setting up the Development Environment:**\n",
        "- To start programming in Python, you need to install the Python interpreter on your computer. Python is available for major operating systems like Windows, macOS, and Linux. You can download the official Python distribution from the Python website (python.org) and follow the installation instructions specific to your operating system.\n",
        "- Apart from the Python interpreter, it's recommended to set up a development environment to enhance your coding experience. One popular choice is Jupyter Notebooks, which provides an interactive environment for writing and running Python code. Jupyter Notebooks allow you to combine code, visualizations, and explanatory text in a single document, making it ideal for data analysis, research, and educational purposes [[10](https://jupyter.org/)].\n",
        "\n",
        "In summary, Python's popularity stems from its simplicity, versatility, and extensive range of applications. Whether you're interested in data analytics, web development, or machine learning, Python provides a robust and beginner-friendly platform to achieve your goals.\n",
        "\n",
        "*Note: The provided lecture/presentation note is a comprehensive summary of the requested information. It incorporates content"
      ],
      "metadata": {
        "id": "InHNwGDrv-4C"
      }
    },
    {
      "cell_type": "markdown",
      "source": [
        "____________________________________________________________________________"
      ],
      "metadata": {
        "id": "oO3TLQkFxcq_"
      }
    },
    {
      "cell_type": "markdown",
      "source": [
        "**2. Basic Concepts**\n",
        "  - Variables and data types (integers, floats, strings)\n",
        "  - Arithmetic operations\n",
        "  - Printing output to the console"
      ],
      "metadata": {
        "id": "3o2b_aOwxpEm"
      }
    },
    {
      "cell_type": "markdown",
      "source": [
        "++++++++++++++++++++++"
      ],
      "metadata": {
        "id": "AMoscN7ZyH7Q"
      }
    },
    {
      "cell_type": "markdown",
      "source": [
        "**Variables and data types in Python:**\n",
        "\n",
        "In Python, variables are used to store and manipulate data. Each variable has a name and a value associated with it. The value can be of different data types, such as integers, floats, or strings.\n",
        "\n",
        "Here's an explanation of each data type mentioned:\n",
        "\n",
        "**a. Integers**: Integers are whole numbers without any decimal points. They can be positive or negative. For example:"
      ],
      "metadata": {
        "id": "TbL77igvyP34"
      }
    },
    {
      "cell_type": "code",
      "source": [
        "age = 20\n",
        "\n",
        "print('I am', age, 'years old')"
      ],
      "metadata": {
        "colab": {
          "base_uri": "https://localhost:8080/"
        },
        "id": "lTdpsszXB0I5",
        "outputId": "3e8f640e-95fd-4424-e5fb-abc29948b2ec"
      },
      "execution_count": null,
      "outputs": [
        {
          "output_type": "stream",
          "name": "stdout",
          "text": [
            "I am 20 years old\n"
          ]
        }
      ]
    },
    {
      "cell_type": "code",
      "source": [
        "cf_dna= 70"
      ],
      "metadata": {
        "id": "9rDsI9EuC5Bi"
      },
      "execution_count": null,
      "outputs": []
    },
    {
      "cell_type": "code",
      "source": [
        "_myAge = 60"
      ],
      "metadata": {
        "id": "4LNlyoLeDeQE"
      },
      "execution_count": null,
      "outputs": []
    },
    {
      "cell_type": "code",
      "execution_count": null,
      "metadata": {
        "id": "eRGSuX2FZxrK"
      },
      "outputs": [],
      "source": [
        "x = 5"
      ]
    },
    {
      "cell_type": "markdown",
      "source": [
        "**b. Floats:**  Floats are numbers with decimal points. They can also be positive or negative. For example:"
      ],
      "metadata": {
        "id": "fqjBSchAz75l"
      }
    },
    {
      "cell_type": "code",
      "source": [
        "y = 3.14"
      ],
      "metadata": {
        "id": "hvzKP_nu0IWF"
      },
      "execution_count": null,
      "outputs": []
    },
    {
      "cell_type": "markdown",
      "source": [
        "**c. Strings:**  Strings are sequences of characters enclosed in single quotes ('') or double quotes (\"\"). They represent text data. For example:"
      ],
      "metadata": {
        "id": "LeQ8Vdf90NZs"
      }
    },
    {
      "cell_type": "code",
      "source": [
        "name = \"John\""
      ],
      "metadata": {
        "id": "drYZ3QgS0Vaq"
      },
      "execution_count": null,
      "outputs": []
    },
    {
      "cell_type": "markdown",
      "source": [
        "**A. Variables and Data Types**\n",
        "\n",
        "Overview of different data types in Python (numbers, strings, lists, etc.):\n",
        "Python has several built-in data types that are commonly used:\n",
        "\n",
        "**Numeric Types:** This includes integers (int), floating-point numbers (float), and complex numbers (complex).\n",
        "\n",
        "**Text Type:** Strings (str) represent sequences of characters.\n",
        "\n",
        "**Sequence Types:** Lists (list), tuples (tuple), and ranges (range) are used to store collections of items.\n",
        "\n",
        "**Mapping Type:** Dictionaries (dict) store data in key-value pairs.\n",
        "\n",
        "**Boolean Type:** Boolean (bool) represents either True or False values.\n",
        "\n",
        "**Binary Types:** Bytes (bytes), byte arrays (bytearray), and memory views (memoryview) are used to handle binary data."
      ],
      "metadata": {
        "id": "Y2x65W_17qNX"
      }
    },
    {
      "cell_type": "markdown",
      "source": [
        "**Arithmetic operations in Python:**\n",
        "\n",
        "Python provides various arithmetic operators for performing mathematical calculations. These operators include addition (+), subtraction (-), multiplication (***), division (/), modulus (%), exponentiation (**), and floor division (//).\n",
        "\n",
        "Here's an explanation of each arithmetic operator:\n",
        "\n",
        "**a. Addition (+):**  The addition operator is used to add two numbers or concatenate two strings. For example:"
      ],
      "metadata": {
        "id": "A4W2yrD00Zex"
      }
    },
    {
      "cell_type": "code",
      "source": [
        "jun_sales = 2 + 5 + 20\n",
        "jul_sales = 10 + 5 + 20"
      ],
      "metadata": {
        "id": "3w-42eOfE8Qm"
      },
      "execution_count": null,
      "outputs": []
    },
    {
      "cell_type": "code",
      "source": [
        "ttl_sales = jun_sales + jul_sales"
      ],
      "metadata": {
        "id": "9VuaOHcpG3jn"
      },
      "execution_count": null,
      "outputs": []
    },
    {
      "cell_type": "code",
      "source": [
        "name = [\"Danielle\", \"Dr Pramanik\", \"Daniel\", \"Blessing\"]\n",
        "age = [16, 60, 9, 20]\n",
        "occupation = [\"Student\", \"Professor\", \"Child\", \"Student\"]\n"
      ],
      "metadata": {
        "id": "arQR8lhLHe_g"
      },
      "execution_count": null,
      "outputs": []
    },
    {
      "cell_type": "code",
      "source": [
        "print(\"my name is\", name[2], \"i am\", age[2],\"and i am a \",occupation[2])"
      ],
      "metadata": {
        "colab": {
          "base_uri": "https://localhost:8080/"
        },
        "id": "qFG7DaFvKY15",
        "outputId": "1ab82d32-1ebb-47c3-d2f1-bb3bdf70b7fc"
      },
      "execution_count": null,
      "outputs": [
        {
          "output_type": "stream",
          "name": "stdout",
          "text": [
            "my name is Daniel i am 9 and i am a  Child\n"
          ]
        }
      ]
    },
    {
      "cell_type": "code",
      "source": [
        "participants = { \"participant1\": {\"name\":\"Danielle\", \"age\":16, \"occupation\":\"Student\"},\n",
        "                 \"participant2\": {\"name\":\"Daniel\", \"age\":9, \"occupation\":\"Child\"}}\n",
        "\n",
        "participants"
      ],
      "metadata": {
        "id": "VUgAVYvwJNO3",
        "colab": {
          "base_uri": "https://localhost:8080/"
        },
        "outputId": "65462182-1019-4fa8-b381-d1b86f5e84cf"
      },
      "execution_count": null,
      "outputs": [
        {
          "output_type": "execute_result",
          "data": {
            "text/plain": [
              "{'participant1': {'name': 'Danielle', 'age': 16, 'occupation': 'Student'},\n",
              " 'participant2': {'name': 'Daniel', 'age': 9, 'occupation': 'Child'}}"
            ]
          },
          "metadata": {},
          "execution_count": 3
        }
      ]
    },
    {
      "cell_type": "code",
      "source": [
        "print(participants[\"participant2\"][\"name\"])"
      ],
      "metadata": {
        "colab": {
          "base_uri": "https://localhost:8080/"
        },
        "id": "bRe1-LiC372E",
        "outputId": "49bc001c-3561-469e-f2cd-c049c1aab959"
      },
      "execution_count": null,
      "outputs": [
        {
          "output_type": "stream",
          "name": "stdout",
          "text": [
            "Daniel\n"
          ]
        }
      ]
    },
    {
      "cell_type": "code",
      "source": [
        "print(participants[\"participant1\"][\"name\"])"
      ],
      "metadata": {
        "colab": {
          "base_uri": "https://localhost:8080/"
        },
        "id": "PuStB6-oyz8r",
        "outputId": "524ce36e-3a46-458e-b2a6-1bf1539034d6"
      },
      "execution_count": null,
      "outputs": [
        {
          "output_type": "stream",
          "name": "stdout",
          "text": [
            "Danielle\n"
          ]
        }
      ]
    },
    {
      "cell_type": "code",
      "source": [
        "print(\"Sales made in June:\",jun_sales)"
      ],
      "metadata": {
        "colab": {
          "base_uri": "https://localhost:8080/"
        },
        "id": "J5RhPmhFFlh2",
        "outputId": "aef18d9a-3f13-4d36-9683-97fce8d09ef2"
      },
      "execution_count": null,
      "outputs": [
        {
          "output_type": "stream",
          "name": "stdout",
          "text": [
            "Sales made in June: 27\n"
          ]
        }
      ]
    },
    {
      "cell_type": "code",
      "source": [
        "print(\"sales made in Summer: \", ttl_sales)\n"
      ],
      "metadata": {
        "colab": {
          "base_uri": "https://localhost:8080/"
        },
        "id": "D2DX60JhHC03",
        "outputId": "2766e904-cad2-4f5e-b9e0-a1112ee6ceee"
      },
      "execution_count": null,
      "outputs": [
        {
          "output_type": "stream",
          "name": "stdout",
          "text": [
            "sales made in Summer:  62\n"
          ]
        }
      ]
    },
    {
      "cell_type": "code",
      "source": [
        "result = 3 + 7\n",
        "print(result)  # Output: 10"
      ],
      "metadata": {
        "id": "JqZXfNiy0so8",
        "colab": {
          "base_uri": "https://localhost:8080/"
        },
        "outputId": "d8be3083-8695-4a54-c0f9-c66f0a1f5aec"
      },
      "execution_count": null,
      "outputs": [
        {
          "output_type": "stream",
          "name": "stdout",
          "text": [
            "10\n"
          ]
        }
      ]
    },
    {
      "cell_type": "markdown",
      "source": [
        "**b. Subtraction (-):**  The subtraction operator is used to subtract one number from another. For example:"
      ],
      "metadata": {
        "id": "-NvaU67i1AHG"
      }
    },
    {
      "cell_type": "code",
      "source": [
        "result = 3 - 7\n",
        "print(result)  # Output: -4"
      ],
      "metadata": {
        "id": "T6s77P5r1Acu",
        "colab": {
          "base_uri": "https://localhost:8080/"
        },
        "outputId": "c07b9b7a-7c57-47de-95a1-4bbdca3d3f66"
      },
      "execution_count": null,
      "outputs": [
        {
          "output_type": "stream",
          "name": "stdout",
          "text": [
            "-4\n"
          ]
        }
      ]
    },
    {
      "cell_type": "markdown",
      "source": [
        "**c. Multiplication (*):** The multiplication operator is used to multiply two numbers. For example:"
      ],
      "metadata": {
        "id": "wYuWC1PU1Aq3"
      }
    },
    {
      "cell_type": "code",
      "source": [
        "result = 3 * 7\n",
        "print(result)  # Output: 21"
      ],
      "metadata": {
        "id": "_uSZkyrB1A40"
      },
      "execution_count": null,
      "outputs": []
    },
    {
      "cell_type": "markdown",
      "source": [
        "**d. Division (/):**  The division operator is used to divide one number by another. The result is a float. For example:"
      ],
      "metadata": {
        "id": "WEMNc4uy1BHd"
      }
    },
    {
      "cell_type": "code",
      "source": [
        "result = 11 / 3\n",
        "print(result)  # Output: 3.66666666667"
      ],
      "metadata": {
        "id": "WVQzw2mF1BUr",
        "colab": {
          "base_uri": "https://localhost:8080/"
        },
        "outputId": "a0c71e96-ae8b-4bff-f209-04e26f61da27"
      },
      "execution_count": null,
      "outputs": [
        {
          "output_type": "stream",
          "name": "stdout",
          "text": [
            "3.6666666666666665\n"
          ]
        }
      ]
    },
    {
      "cell_type": "markdown",
      "source": [
        "**e. Floor Division (//):** The floor division operator is used to divide one number by another and round down to the nearest integer. For example:"
      ],
      "metadata": {
        "id": "QjycJmtS1BlS"
      }
    },
    {
      "cell_type": "code",
      "source": [
        "result = 11 // 3\n",
        "print(result)  # Output: 3"
      ],
      "metadata": {
        "id": "1sp7zY0N1B1t",
        "colab": {
          "base_uri": "https://localhost:8080/"
        },
        "outputId": "53722655-561f-40e4-c47c-83b5c06fb13d"
      },
      "execution_count": null,
      "outputs": [
        {
          "output_type": "stream",
          "name": "stdout",
          "text": [
            "3\n"
          ]
        }
      ]
    },
    {
      "cell_type": "markdown",
      "source": [
        "**f. Modulus (%):** The modulus operator is used to find the remainder of the division between two numbers. For example:"
      ],
      "metadata": {
        "id": "wRVAIJlW2xxa"
      }
    },
    {
      "cell_type": "code",
      "source": [
        "result = 11 % 3\n",
        "print(result)  # Output: 2"
      ],
      "metadata": {
        "id": "uZoLV_g02yAw",
        "colab": {
          "base_uri": "https://localhost:8080/"
        },
        "outputId": "7cd80f92-6408-464b-9c50-a563bc87e00c"
      },
      "execution_count": null,
      "outputs": [
        {
          "output_type": "stream",
          "name": "stdout",
          "text": [
            "2\n"
          ]
        }
      ]
    },
    {
      "cell_type": "markdown",
      "source": [
        "**g. Exponentiation** (**):  The exponentiation operator is used to raise a number to the power of another number. For example:"
      ],
      "metadata": {
        "id": "BUK23wFY2ybf"
      }
    },
    {
      "cell_type": "code",
      "source": [
        "result = 3 ** 3\n",
        "print(result)  # Output: 27"
      ],
      "metadata": {
        "id": "TNjRzKyd2yvV",
        "colab": {
          "base_uri": "https://localhost:8080/"
        },
        "outputId": "3756aaaf-58fd-4286-a6fd-7adb61745d20"
      },
      "execution_count": null,
      "outputs": [
        {
          "output_type": "stream",
          "name": "stdout",
          "text": [
            "27\n"
          ]
        }
      ]
    },
    {
      "cell_type": "markdown",
      "source": [
        "++++++++++++++++++++++++"
      ],
      "metadata": {
        "id": "OZ3qMKT82y9I"
      }
    },
    {
      "cell_type": "markdown",
      "source": [
        "**3. Control Flow**\n",
        "\n",
        "  - Conditional statements (if-else)\n",
        "  - Loops (for and while loops)\n",
        "  - Iterating through lists and other data structures"
      ],
      "metadata": {
        "id": "IS827wUN4dWD"
      }
    },
    {
      "cell_type": "markdown",
      "source": [
        "**a. Conditional Statements (if-else):**\n",
        "Conditional statements allow you to execute different blocks of code based on certain conditions. In Python, the syntax for if-else statements is as follows:"
      ],
      "metadata": {
        "id": "n7wLdt5-5Tmi"
      }
    },
    {
      "cell_type": "code",
      "source": [
        "if condition:\n",
        "  # code to be executed if the condition is true\n",
        "else:\n",
        "  # code to be executed if the condition is false"
      ],
      "metadata": {
        "id": "LUpfSiXM4kud"
      },
      "execution_count": null,
      "outputs": []
    },
    {
      "cell_type": "code",
      "source": [
        "x =2\n",
        "\n",
        "if x > 5:\n",
        "    print(\"x is greater than 5\")\n",
        "else:\n",
        "    print(\"x is less than or equal to 5\")"
      ],
      "metadata": {
        "id": "JysCbq3P2zMa",
        "colab": {
          "base_uri": "https://localhost:8080/"
        },
        "outputId": "9824351d-2132-47e3-97e1-d681dc44a586"
      },
      "execution_count": null,
      "outputs": [
        {
          "output_type": "stream",
          "name": "stdout",
          "text": [
            "x is less than or equal to 5\n"
          ]
        }
      ]
    },
    {
      "cell_type": "code",
      "source": [
        "x = int(input(\"Please enter an integer: \"))\n",
        "\n",
        "if x < 0:\n",
        "    x = 0\n",
        "    print('Negative changed to zero')\n",
        "elif x == 0:\n",
        "    print('Zero')\n",
        "elif x == 1:\n",
        "    print('Single')\n",
        "else:\n",
        "    print('More')\n"
      ],
      "metadata": {
        "id": "CAxa0is65Mgc"
      },
      "execution_count": null,
      "outputs": []
    },
    {
      "cell_type": "markdown",
      "source": [
        "**b. Loops (for and while loops):**\n",
        "Loops allow you to repeatedly execute a block of code. Python provides two types of loops: for loops and while loops.\n",
        "\n",
        "**- For Loop:**\n",
        "For loops are used to iterate over a sequence of elements (such as a list, tuple, or string). The syntax for a for loop in Python is as follows:"
      ],
      "metadata": {
        "id": "6yFUAxcS2zed"
      }
    },
    {
      "cell_type": "code",
      "source": [
        "for element in sequence:\n",
        "    # code to be executed for each element"
      ],
      "metadata": {
        "id": "vxL4J-402zug"
      },
      "execution_count": null,
      "outputs": []
    },
    {
      "cell_type": "code",
      "source": [
        "fruits = [\"apple\", \"banana\", \"cherry\"]\n",
        "\n",
        "for item in fruits:\n",
        "    print(item)"
      ],
      "metadata": {
        "id": "1RxwYp5q6Zav",
        "colab": {
          "base_uri": "https://localhost:8080/"
        },
        "outputId": "4916b4bb-5840-4610-d35c-6d1c861ee187"
      },
      "execution_count": null,
      "outputs": [
        {
          "output_type": "stream",
          "name": "stdout",
          "text": [
            "apple\n",
            "banana\n",
            "cherry\n"
          ]
        }
      ]
    },
    {
      "cell_type": "code",
      "source": [
        "# For loop\n",
        "numbers = [1, 2, 3, 4, 5]\n",
        "for num in numbers:\n",
        "    print(num)\n"
      ],
      "metadata": {
        "id": "JYgFXmFo0_Tf",
        "colab": {
          "base_uri": "https://localhost:8080/"
        },
        "outputId": "cc10e6f3-0b66-440d-8fd7-f5cba8f42980"
      },
      "execution_count": null,
      "outputs": [
        {
          "output_type": "stream",
          "name": "stdout",
          "text": [
            "1\n",
            "2\n",
            "3\n",
            "4\n",
            "5\n"
          ]
        }
      ]
    },
    {
      "cell_type": "markdown",
      "source": [
        "**-. While Loop:**\n",
        "While loops repeatedly execute a block of code as long as a condition remains true. The syntax for a while loop in Python is as follows:"
      ],
      "metadata": {
        "id": "ylqe4ptwv9aJ"
      }
    },
    {
      "cell_type": "code",
      "source": [
        "while condition:\n",
        "    # code to be executed while the condition is true"
      ],
      "metadata": {
        "id": "aoxajlXW6n7r"
      },
      "execution_count": null,
      "outputs": []
    },
    {
      "cell_type": "code",
      "source": [
        "count = 0\n",
        "\n",
        "while count < 5:\n",
        "  print(count)\n",
        "  count += 1"
      ],
      "metadata": {
        "id": "3dUc3GzC6vvA",
        "colab": {
          "base_uri": "https://localhost:8080/"
        },
        "outputId": "2802ae49-b30d-48ff-b12d-d61aea758274"
      },
      "execution_count": null,
      "outputs": [
        {
          "output_type": "stream",
          "name": "stdout",
          "text": [
            "0\n",
            "1\n",
            "2\n",
            "3\n",
            "4\n"
          ]
        }
      ]
    },
    {
      "cell_type": "code",
      "source": [
        "# While loop\n",
        "temp = 0\n",
        "while temp < 65:\n",
        "    print(temp)\n",
        "    temp += 1"
      ],
      "metadata": {
        "id": "_T_QYKti1Gyp",
        "colab": {
          "base_uri": "https://localhost:8080/"
        },
        "outputId": "da14e232-1d11-4ef1-efcf-9a52176a41eb"
      },
      "execution_count": null,
      "outputs": [
        {
          "output_type": "stream",
          "name": "stdout",
          "text": [
            "0\n",
            "1\n",
            "2\n",
            "3\n",
            "4\n",
            "5\n",
            "6\n",
            "7\n",
            "8\n",
            "9\n",
            "10\n",
            "11\n",
            "12\n",
            "13\n",
            "14\n",
            "15\n",
            "16\n",
            "17\n",
            "18\n",
            "19\n",
            "20\n",
            "21\n",
            "22\n",
            "23\n",
            "24\n",
            "25\n",
            "26\n",
            "27\n",
            "28\n",
            "29\n",
            "30\n",
            "31\n",
            "32\n",
            "33\n",
            "34\n",
            "35\n",
            "36\n",
            "37\n",
            "38\n",
            "39\n",
            "40\n",
            "41\n",
            "42\n",
            "43\n",
            "44\n",
            "45\n",
            "46\n",
            "47\n",
            "48\n",
            "49\n",
            "50\n",
            "51\n",
            "52\n",
            "53\n",
            "54\n",
            "55\n",
            "56\n",
            "57\n",
            "58\n",
            "59\n",
            "60\n",
            "61\n",
            "62\n",
            "63\n",
            "64\n"
          ]
        }
      ]
    },
    {
      "cell_type": "markdown",
      "source": [
        "**c. Iterating through Lists and Other Data Structures:**\n",
        "To iterate through lists and other data structures, you can use the for loop. As shown in the previous example, you can use a for loop to iterate over elements in a list.\n",
        "Here's an example that demonstrates iterating through a list:"
      ],
      "metadata": {
        "id": "xo0OHoW_6oMl"
      }
    },
    {
      "cell_type": "code",
      "source": [
        "numbers = [1, 2, 3, 4, 5]\n",
        "\n",
        "for number in numbers:\n",
        "    print(number)"
      ],
      "metadata": {
        "id": "1gEt-9F36odX"
      },
      "execution_count": null,
      "outputs": []
    },
    {
      "cell_type": "markdown",
      "source": [
        "You can also use a for loop with other data structures like strings, tuples, dictionaries, etc., by providing the appropriate sequence."
      ],
      "metadata": {
        "id": "LaFB3tXi7S_B"
      }
    },
    {
      "cell_type": "markdown",
      "source": [
        "++++++++++++++++++++++++++++++++++++++++++++++++++++"
      ],
      "metadata": {
        "id": "VVTvMWj-6osM"
      }
    },
    {
      "cell_type": "markdown",
      "source": [
        "**4. Functions**\n",
        "  - Defining and calling functions\n",
        "  - Parameters and return values\n",
        "  - Built-in functions vs. user-defined functions"
      ],
      "metadata": {
        "id": "cj7YMGUn7kF_"
      }
    },
    {
      "cell_type": "markdown",
      "source": [
        "**a. Defining and calling functions:**\n",
        "Functions in Python are defined using the def keyword followed by the function name and parentheses. The code block inside the function is indented. To call a function, you simply write the function name followed by parentheses."
      ],
      "metadata": {
        "id": "nS3M_Grx8Zc2"
      }
    },
    {
      "cell_type": "code",
      "source": [
        "# Function definition\n",
        "def greet():\n",
        "    print(\"Hello, World!\")\n",
        "\n",
        " # Function call\n",
        "greet()  # Output: Hello, World!"
      ],
      "metadata": {
        "id": "LvrHu0PE8YkC",
        "colab": {
          "base_uri": "https://localhost:8080/"
        },
        "outputId": "32abcad2-5e7e-43f1-e9e5-0b87237d6360"
      },
      "execution_count": null,
      "outputs": [
        {
          "output_type": "stream",
          "name": "stdout",
          "text": [
            "Hello, World!\n"
          ]
        }
      ]
    },
    {
      "cell_type": "code",
      "source": [
        "# Function definition\n",
        "def greets(name):\n",
        "    print(\"Hello, \" + name + \"!\")\n",
        "\n",
        "# Function call\n",
        "greets(\"Mitch\")\n"
      ],
      "metadata": {
        "colab": {
          "base_uri": "https://localhost:8080/"
        },
        "id": "kAe_Msy31trf",
        "outputId": "6eecf6f8-b336-4935-d54b-3d18bdb36599"
      },
      "execution_count": null,
      "outputs": [
        {
          "output_type": "stream",
          "name": "stdout",
          "text": [
            "Hello, Mitch!\n"
          ]
        }
      ]
    },
    {
      "cell_type": "code",
      "source": [
        "# Function definition\n",
        "name = input(\"what is your name?\")\n",
        "age = input(\"How old are you?\")\n",
        "classification = input(\"Mind telling me your classification?\")\n",
        "\n",
        "\n",
        "def info(name, age, classification):\n",
        "    print(\"Hello, \" + name + \"!\" + \"\\nYour profile says you are \" + age +\" and also a \" + classification)\n",
        "\n",
        "# Function call\n",
        "info(name, age, classification)\n"
      ],
      "metadata": {
        "id": "igsssuNo2xKJ",
        "colab": {
          "base_uri": "https://localhost:8080/"
        },
        "outputId": "e200738d-d887-47a8-b01b-fc798038b867"
      },
      "execution_count": null,
      "outputs": [
        {
          "output_type": "stream",
          "name": "stdout",
          "text": [
            "what is your name?blessing\n",
            "How old are you?20\n",
            "Mind telling me your classification?student\n",
            "Hello, blessing!\n",
            "Your profile says you are 20 and also a student\n"
          ]
        }
      ]
    },
    {
      "cell_type": "code",
      "source": [
        "# Function definition\n",
        "name = input(\"what is your name?\")\n",
        "age = input(\"How old are you?\")\n",
        "classification = input(\"Mind telling me your classification?\")\n",
        "\n",
        "\n",
        "def info(name, age, classification):\n",
        "    print(f\"Hello,{name}\\nYour profile says you are {age} and also a {classification}\")\n",
        "\n",
        "# Function call\n",
        "info(name, age, classification)\n"
      ],
      "metadata": {
        "id": "BAIoCSSpIEzP"
      },
      "execution_count": null,
      "outputs": []
    },
    {
      "cell_type": "code",
      "source": [
        "def greet(name):\n",
        "    print(f\"Hello, {name}!\")\n",
        "\n",
        "greet(\"Alice\")\n"
      ],
      "metadata": {
        "colab": {
          "base_uri": "https://localhost:8080/"
        },
        "id": "_IvCabAr5viN",
        "outputId": "560797e1-cdc3-463e-f151-f053186bc141"
      },
      "execution_count": null,
      "outputs": [
        {
          "output_type": "stream",
          "name": "stdout",
          "text": [
            "Hello, Alice!\n"
          ]
        }
      ]
    },
    {
      "cell_type": "markdown",
      "source": [
        "**b. Parameters and return values:**\n",
        "Functions can take parameters, which are values passed into the function for its operation. Parameters are defined inside the parentheses after the function name. Functions can also return values using the return keyword."
      ],
      "metadata": {
        "id": "DYceztjV9lgY"
      }
    },
    {
      "cell_type": "code",
      "source": [
        "# Function definition with parameters\n",
        "def add_numbers(a, b):\n",
        "    return a + b"
      ],
      "metadata": {
        "id": "Gq0aUvpC9lx2"
      },
      "execution_count": null,
      "outputs": []
    },
    {
      "cell_type": "code",
      "source": [
        "add_numbers(3,5)"
      ],
      "metadata": {
        "colab": {
          "base_uri": "https://localhost:8080/"
        },
        "id": "PvIkU1NxUDgb",
        "outputId": "ef258909-cc94-4335-e2ff-8473d5ba780d"
      },
      "execution_count": null,
      "outputs": [
        {
          "output_type": "execute_result",
          "data": {
            "text/plain": [
              "8"
            ]
          },
          "metadata": {},
          "execution_count": 23
        }
      ]
    },
    {
      "cell_type": "code",
      "source": [
        "# Function call with arguments and assigning the result to a variable\n",
        "result = add_numbers(3, 4)\n",
        "print(result)  # Output: 7"
      ],
      "metadata": {
        "id": "uhmvZStG6PNE",
        "colab": {
          "base_uri": "https://localhost:8080/"
        },
        "outputId": "49dee8d1-6989-4c78-a0bb-4bb42bb8e3d0"
      },
      "execution_count": null,
      "outputs": [
        {
          "output_type": "stream",
          "name": "stdout",
          "text": [
            "7\n"
          ]
        }
      ]
    },
    {
      "cell_type": "markdown",
      "source": [
        "**c. Built-in functions vs. user-defined functions:**\n",
        "Python provides a set of built-in functions that are always available for use. These functions are predefined and perform common operations. On the other hand, user-defined functions are created by the programmer to perform specific tasks as needed."
      ],
      "metadata": {
        "id": "6cF0bhaF9vcH"
      }
    },
    {
      "cell_type": "code",
      "source": [
        "# Built-in function: len()\n",
        "string_length = len(\"Hello\")\n",
        "print(string_length)  # Output: 5"
      ],
      "metadata": {
        "id": "I-u4D23p9vpt",
        "colab": {
          "base_uri": "https://localhost:8080/"
        },
        "outputId": "49ea762f-677e-442d-a1f0-8db51f0a9596"
      },
      "execution_count": null,
      "outputs": [
        {
          "output_type": "stream",
          "name": "stdout",
          "text": [
            "5\n"
          ]
        }
      ]
    },
    {
      "cell_type": "code",
      "source": [
        "# User-defined function\n",
        "def multiply_numbers(a, b):\n",
        "    return a * b\n",
        "\n",
        "result = multiply_numbers(2, 3)\n",
        "print(result)  # Output: 6"
      ],
      "metadata": {
        "id": "RmIKifMq6Mz-",
        "colab": {
          "base_uri": "https://localhost:8080/"
        },
        "outputId": "6f3f6275-44bd-4688-b49f-0db7b47d6b87"
      },
      "execution_count": null,
      "outputs": [
        {
          "output_type": "stream",
          "name": "stdout",
          "text": [
            "6\n"
          ]
        }
      ]
    },
    {
      "cell_type": "markdown",
      "source": [
        "**Built-in module and External modules:**\n",
        "Python provides a rich ecosystem of built-in and external modules that extend the functionality of the language. Built-in modules are included with Python, while external modules need to be installed separately. You can import modules using the import statement."
      ],
      "metadata": {
        "id": "YwlF-PHv4frA"
      }
    },
    {
      "cell_type": "code",
      "source": [
        "# Importing a built-in module\n",
        "import math\n",
        "print(math.sqrt(25))\n"
      ],
      "metadata": {
        "id": "PmH7QswM4sR4",
        "colab": {
          "base_uri": "https://localhost:8080/"
        },
        "outputId": "50313505-3038-41ac-d0b2-3bada0de79aa"
      },
      "execution_count": null,
      "outputs": [
        {
          "output_type": "stream",
          "name": "stdout",
          "text": [
            "5.0\n"
          ]
        }
      ]
    },
    {
      "cell_type": "code",
      "source": [
        "# Importing an external module\n",
        "import pandas as pd\n",
        "data = pd.read_csv(\"data.csv\")"
      ],
      "metadata": {
        "id": "oTYH-qPw6Jzx"
      },
      "execution_count": null,
      "outputs": []
    },
    {
      "cell_type": "code",
      "source": [],
      "metadata": {
        "id": "uCz4ujD84UDN"
      },
      "execution_count": null,
      "outputs": []
    },
    {
      "cell_type": "markdown",
      "source": [
        "+++++++++++++++++++++++++++++++++++++++++++++++++++++++++"
      ],
      "metadata": {
        "id": "UdpNKAxH8CG4"
      }
    },
    {
      "cell_type": "markdown",
      "source": [
        "**5. File Handling**\n",
        "  - Reading from and writing to files\n",
        "  - File modes (read, write, append)"
      ],
      "metadata": {
        "id": "4nPHFeSr7vwv"
      }
    },
    {
      "cell_type": "markdown",
      "source": [
        "File handling in Python is an essential skill for working with files. It involves tasks such as reading from and writing to files, as well as understanding different file modes"
      ],
      "metadata": {
        "id": "nsts2712-iYm"
      }
    },
    {
      "cell_type": "markdown",
      "source": [
        "**a. Reading from a File:**\n",
        "To read from a file in Python, you can use the open() function with the mode set to \"r\" (read)."
      ],
      "metadata": {
        "id": "XSQyiiqp-ktN"
      }
    },
    {
      "cell_type": "code",
      "source": [
        "file = open(\"example.txt\", \"r\")\n",
        "content = file.read()\n",
        "print(content)\n",
        "file.close()"
      ],
      "metadata": {
        "id": "8VtoZD_j-vpi"
      },
      "execution_count": null,
      "outputs": []
    },
    {
      "cell_type": "markdown",
      "source": [
        "This code opens the file named \"example.txt\" in read mode, reads the contents using the read() method, and prints them. Finally, the file is closed using the close() method."
      ],
      "metadata": {
        "id": "vG7XT1eh-6S7"
      }
    },
    {
      "cell_type": "markdown",
      "source": [
        "**b. Writing to a File:**\n",
        "To write to a file in Python, you can use the open() function with the mode set to \"w\" (write). Here's an example:"
      ],
      "metadata": {
        "id": "PgCFA01Q-wae"
      }
    },
    {
      "cell_type": "code",
      "source": [
        "file = open(\"example.txt\", \"w\")\n",
        "file.write(\"Hello, world!\")\n",
        "file.close()"
      ],
      "metadata": {
        "id": "0W0arKiX_Ft9"
      },
      "execution_count": null,
      "outputs": []
    },
    {
      "cell_type": "markdown",
      "source": [
        "**c. Appending to a File:**\n",
        "To append data to an existing file in Python, you can use the open() function with the mode set to \"a\" (append). Here's an example:"
      ],
      "metadata": {
        "id": "_CKiLz_f_Mum"
      }
    },
    {
      "cell_type": "code",
      "source": [
        "file = open(\"example.txt\", \"a\")\n",
        "file.write(\"\\nNew line appended!\")\n",
        "file.close()"
      ],
      "metadata": {
        "id": "pXT9nJP4_NIb"
      },
      "execution_count": null,
      "outputs": []
    },
    {
      "cell_type": "markdown",
      "source": [
        "**File modes:**\n",
        "\n",
        "- \"r\": Read mode. Opens the file for reading (default mode if not specified). Raises an error if the file doesn't exist.\n",
        "- \"w\": Write mode. Opens the file for writing. Creates a new file if it doesn't exist, or overwrites the existing file.\n",
        "- \"a\": Append mode. Opens the file for appending. Creates a new file if it doesn't exist, or appends to the existing file.\n",
        "- \"x\": Exclusive creation mode. Creates a new file and raises an error if it already exists.\n",
        "- \"t\": Text mode. Opens the file in text mode (default mode if not specified).\n",
        "- \"b\": Binary mode. Opens the file in binary mode.\n",
        "\n",
        "It's important to close the file after performing operations using the close() method to free up system resources. Alternatively, you can use the with statement to automatically close the file."
      ],
      "metadata": {
        "id": "5RFV0JZu_ef2"
      }
    },
    {
      "cell_type": "markdown",
      "source": [
        "+++++++++++++++++++++++++++++++++++++++++++++++++++++++++++++++++++++"
      ],
      "metadata": {
        "id": "d5OWJUey8G5C"
      }
    },
    {
      "cell_type": "markdown",
      "source": [
        "**6. Libraries and Modules**\n",
        "  - Introduction to Python libraries (e.g., NumPy, Pandas, Matplotlib)\n",
        "  - Importing and using modules"
      ],
      "metadata": {
        "id": "O04yQ1-p7yV8"
      }
    },
    {
      "cell_type": "markdown",
      "source": [
        "Python libraries and modules are essential components of the Python programming language that provide additional functionalities and tools to simplify development tasks. Here's a brief explanation of Python libraries and modules, along with a code snippet demonstrating their usage.\n",
        "\n",
        "**a. Introduction to Python libraries:**\n",
        "\n",
        "Python libraries are collections of precompiled code that offer a wide range of functionalities and tools to developers. These libraries are created to address specific tasks or problem domains. They help simplify development by providing ready-to-use functions, classes, and methods, eliminating the need to write code from scratch.\n",
        "\n",
        "Example libraries:\n",
        "\n",
        "**- NumPy:** A library for numerical computations and working with arrays and matrices.\n",
        "\n",
        "**- Pandas:** A library for data manipulation and analysis, providing data structures like DataFrames.\n",
        "\n",
        "**- Matplotlib:** A library for creating visualizations and plots.\n",
        "\n",
        "**b. Importing and using modules:**\n",
        "Modules in Python are single files that contain Python code, including functions, classes, and variables, which can be imported and used in other Python programs. Modules provide a way to organize code and make it reusable across multiple projects.\n",
        "\n",
        "To import a module, use the import keyword followed by the module name. After importing, you can access the functions, classes, or variables defined in the module using the dot notation (module_name.item_name).\n",
        "\n"
      ],
      "metadata": {
        "id": "5OTSc9hJAxqO"
      }
    },
    {
      "cell_type": "code",
      "source": [
        "import numpy as np\n",
        "\n",
        "# Generate an array of random numbers between 0 and 1\n",
        "random_array = np.random.rand(5)\n",
        "\n",
        "# Print the random array\n",
        "print(random_array)"
      ],
      "metadata": {
        "id": "VpRU-tiKAx7W",
        "colab": {
          "base_uri": "https://localhost:8080/"
        },
        "outputId": "1d6d0891-c362-4679-8e93-f39b8cbfdb54"
      },
      "execution_count": null,
      "outputs": [
        {
          "output_type": "stream",
          "name": "stdout",
          "text": [
            "[0.47408466 0.75478724 0.55359843 0.71839673 0.78125186]\n"
          ]
        }
      ]
    },
    {
      "cell_type": "markdown",
      "source": [
        "In the above code, we import the numpy library using the import statement and assign it the alias np. We then use the np.random module to generate an array of random numbers between 0 and 1 using the rand function. Finally, we print the random array using the print function.\n",
        "\n",
        "These are just a few examples of Python libraries and modules. The Python ecosystem offers a vast collection of libraries for various purposes, making Python a versatile language for different domains and applications."
      ],
      "metadata": {
        "id": "zfg5jFTbCQFq"
      }
    },
    {
      "cell_type": "markdown",
      "source": [
        "++++++++++++++++++++++++++++++"
      ],
      "metadata": {
        "id": "HeMeoE3G7WkR"
      }
    },
    {
      "cell_type": "code",
      "source": [
        "participants = {\n",
        "    \"participant1\": {\n",
        "        \"name\": \"Danielle Wade\",\n",
        "        \"age\": 16,\n",
        "        \"classification\": \"Student\",\n",
        "        \"gift_card\": 1500.0\n",
        "    },\n",
        "    \"participant2\": {\n",
        "        \"name\": \"Dr Pramanik\",\n",
        "        \"age\": 60,\n",
        "        \"classification\": \"Professor\",\n",
        "        \"gift_card\": 2500.0\n",
        "    },\n",
        "    \"participant3\": {\n",
        "        \"name\": \"Daniel Little\",\n",
        "        \"age\": 9,\n",
        "        \"classification\": \"Child\",\n",
        "        \"gift_card\": 5000.0\n",
        "    },\n",
        "    \"participant4\": {\n",
        "        \"name\": \"Blessing Adeika\",\n",
        "        \"age\": 20,\n",
        "        \"classification\": \"Student\",\n",
        "        \"gift_card\": 1200.0\n",
        "    },\n",
        "    \"participant5\": {\n",
        "        \"name\": \"David Thompson\",\n",
        "        \"age\": 37,\n",
        "        \"classification\": \"TA\",\n",
        "        \"gift_card\": 3200.0\n",
        "    }\n",
        "}\n",
        "\n",
        "# Accessing customer information\n",
        "print(participants[\"participant1\"][\"name\"])  # Output: Danielle Wade\n",
        "print(participants[\"participant3\"][\"gift_card\"])  # Output: 5000.0\n"
      ],
      "metadata": {
        "id": "rJFfmnyi7Vej"
      },
      "execution_count": null,
      "outputs": []
    },
    {
      "cell_type": "code",
      "source": [
        "# This is a simple Python program\n",
        "name = input(\"Enter your name: \")\n",
        "print(\"Hello, \" + name + \"! Welcome to Class Today.\")\n"
      ],
      "metadata": {
        "id": "RxAO9L-j7eWR"
      },
      "execution_count": null,
      "outputs": []
    },
    {
      "cell_type": "markdown",
      "source": [
        "**More Resources**\n",
        "\n",
        "- The Python Package Index (PyPI) [1]\n",
        "- The Python Standard Library — Python 3.11.4 documentation [2]\n",
        "- Installing Python Modules — Python 3.11.4 documentation [6]\n",
        "- Python Modules - W3Schools [8]\n",
        "- Scripts, Modules, Packages, and Libraries – Real Python [9]\n",
        "- Python Module Index — Python 3.11.4 documentation [7]\n",
        "- Python Libraries in 2023 [5]\n",
        "- 14 Python Libraries and Modules Every Developer Should Know - Geekflare"
      ],
      "metadata": {
        "id": "0206GwQ2CcFB"
      }
    },
    {
      "cell_type": "markdown",
      "source": [
        "+++++++++++++++++++++++++++++++++++++++++++++++++++++++++++++++++++++++++"
      ],
      "metadata": {
        "id": "_hf6KxoQ8Jmg"
      }
    },
    {
      "cell_type": "markdown",
      "source": [
        "**7. Conclusion and Next Steps**\n",
        "  - Recap of key concepts learned\n",
        "  - Resources for further learning and practice"
      ],
      "metadata": {
        "id": "mX1TqxMI70HQ"
      }
    },
    {
      "cell_type": "markdown",
      "source": [
        "In conclusion, this presentation in Python covered key concepts and provided resources for further learning and practice. Throughout the presentation, we learned about important aspects of learning Python and how to approach it effectively.\n",
        "\n",
        "[1] How to Learn Python (Step-By-Step) in 2022 - Dataquest: Link\n",
        "[2] Five Things to Know Before Learning Python | Red Hat Developer: Link\n",
        "[3] Conclusion and next steps | Microsoft Learn: Link\n",
        "[4] Conclusions — Introduction to Programming with Python - Read"
      ],
      "metadata": {
        "id": "x2Cp-l58DhMU"
      }
    },
    {
      "cell_type": "markdown",
      "source": [
        "++++++++++++++++++++++++++++++++++++++++++++++++"
      ],
      "metadata": {
        "id": "1BPOorcD6pK0"
      }
    },
    {
      "cell_type": "code",
      "source": [
        "# Example code for calculating the area of a rectangle\n",
        "\n",
        "def calculate_rectangle_area(length, width):\n",
        "    area = length * width\n",
        "    return area\n",
        "\n",
        "# Prompt user for rectangle dimensions\n",
        "length = float(input(\"Enter the length of the rectangle: \"))\n",
        "width = float(input(\"Enter the width of the rectangle: \"))\n",
        "\n",
        "# Calculate and display the area\n",
        "area = calculate_rectangle_area(length, width)\n",
        "print(\"The area of the rectangle is:\", area)\n"
      ],
      "metadata": {
        "id": "VRel2vzXm37W"
      },
      "execution_count": null,
      "outputs": []
    }
  ]
}